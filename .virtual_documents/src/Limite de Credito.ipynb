import pandas as pd 
import matplotlib.pyplot as plt 
import plotly.express as px 
import seaborn as sns 



df = pd.read_excel(r'../data/external/default_of_credit_card_clients__courseware_version_1_21_19.xls')
df.sample(3)


## Verificando quantidade de linhas e colunas
df.shape





# nomes das colunas
df.columns


df.head()


df['ID'].nunique()


df['ID'].value_counts()


id_counts = df['ID'].value_counts()
id_counts.head()


# Exiba o número de entradas duplicadas agrupadas executando outra conta- gem de valores:
id_counts.value_counts()


import numpy as np


np.random.seed(24)

random_intergers = np.random.randint(low=1,high=5, size=100)

random_intergers


is_igual_to_3 = random_intergers == 3


is_igual_to_3


is_igual_to_3[:5]


len(random_intergers[is_igual_to_3])


id_counts


dupe_mark = id_counts == 2
dupe_mark[0:5]


dupe_ids=id_counts.index[dupe_mark]
len(dupe_ids)


dupe_ids[:5]


df.loc[df['ID'].isin(dupe_ids[0:3]),:].head(10)


df_zero_mask = df == 0
df_zero_mask


feature_zero_mask = df_zero_mask.iloc[:,1:].all(axis=1)
sum(feature_zero_mask)


# Crie uma matriz booleana
df_zero_mask = df == 0


# Crie a série booleana feature_zero_mask,
feature_zero_mask = df_zero_mask.iloc[:,1:].all(axis=1)
feature_zero_mask


# Calcule a soma da série booleana usando este comando:
sum(feature_zero_mask)


# limpe o DataFrame eliminado as linhas só com zeros
df_clean_1 = df.loc[~feature_zero_mask,:].copy()


df_clean_1.shape


#  Obtenha o número de IDs exclusivos executando este código:
df_clean_1['ID'].nunique()


df_clean_1.info()



