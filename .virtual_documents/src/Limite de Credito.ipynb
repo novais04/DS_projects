import pandas as pd 
import matplotlib.pyplot as plt 
import plotly.express as px 
import seaborn as sns 



df = pd.read_excel(r'../data/external/default_of_credit_card_clients__courseware_version_1_21_19.xls')
df.sample(3)


## Verificando quantidade de linhas e colunas
df.shape





# nomes das colunas
df.columns


df.head()


df['ID'].nunique()


df['ID'].value_counts()


id_counts = df['ID'].value_counts()
id_counts.head()


# Exiba o número de entradas duplicadas agrupadas executando outra conta- gem de valores:
id_counts.value_counts()



