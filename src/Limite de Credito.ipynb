{
 "cells": [
  {
   "cell_type": "markdown",
   "id": "3c9df8be-15d1-4aec-95be-65b5cf9da28e",
   "metadata": {},
   "source": [
    "# O problema da empresa\n",
    "\n",
    "Nosso cliente é uma empresa de cartão de crédito. Eles nos trouxeram um dataset que inclui dados demográficos e dados financeiros recentes __(últimos seis meses)__ de uma amostra de __30.000 titulares__ de contas. Esses dados estão no nível de conta de crédito; em outras palavras, __há uma linha para cada conta__ (você deve sempre esclarecer qual é a definição de linha, em um dataset). As linhas são rotuladas de acordo com se no mês seguinte ao período de dados histórico de seis meses um proprietário de conta ficou inadimplente, ou seja, não fez o pagamento mínimo."
   ]
  },
  {
   "cell_type": "markdown",
   "id": "64204c9b-650e-4e1f-b38c-15b55c8b3476",
   "metadata": {},
   "source": [
    "# Objetivo\n",
    "Seu objetivo é desenvolver um modelo que preveja se __uma conta ficará inadimplente no próximo mês__, de acordo com dados demográficos e históricos. Posteriormente no livro, discutiremos a aplicação prática do modelo."
   ]
  },
  {
   "cell_type": "code",
   "execution_count": null,
   "id": "a86e62b1-6f18-43b7-87ac-ea0739a5cb9d",
   "metadata": {},
   "outputs": [],
   "source": []
  }
 ],
 "metadata": {
  "kernelspec": {
   "display_name": "Python 3 (ipykernel)",
   "language": "python",
   "name": "python3"
  },
  "language_info": {
   "codemirror_mode": {
    "name": "ipython",
    "version": 3
   },
   "file_extension": ".py",
   "mimetype": "text/x-python",
   "name": "python",
   "nbconvert_exporter": "python",
   "pygments_lexer": "ipython3",
   "version": "3.10.12"
  }
 },
 "nbformat": 4,
 "nbformat_minor": 5
}
